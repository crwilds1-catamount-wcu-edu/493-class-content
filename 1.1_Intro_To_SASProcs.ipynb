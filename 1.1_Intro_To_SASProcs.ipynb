{
 "cells": [
  {
   "cell_type": "markdown",
   "metadata": {
    "slideshow": {
     "slide_type": "slide"
    }
   },
   "source": [
    "# 1.1 Intro to SAS PROCs Using Jupyter Notebooks \n",
    "\n",
    "- [Understanding SAS Programs](#Understanding-SAS-Programs)\n",
    "- [SAS Programming Steps](#SAS-Programming-Steps)\n",
    "- [PROC PRINT](#PROC-PRINT)  \n",
    "- [PROC CONTENTS](#PROC-CONTENTS) \n",
    "- [PROC MEANS](#PROC-MEANS)  \n",
    "  \n",
    "  \n",
    "- [Task 1](#Task-1) \n"
   ]
  },
  {
   "cell_type": "markdown",
   "metadata": {
    "slideshow": {
     "slide_type": "slide"
    }
   },
   "source": [
    "### Understanding SAS Programs \n",
    "![Understanding SAS Programs](Images/L2_UnderstandingSASPrograms.png)"
   ]
  },
  {
   "cell_type": "markdown",
   "metadata": {
    "slideshow": {
     "slide_type": "slide"
    }
   },
   "source": [
    "### SAS Programming Steps\n",
    "![SAS Programing Steps](Images/L2_SASProgrammingSteps.png)"
   ]
  },
  {
   "cell_type": "markdown",
   "metadata": {
    "slideshow": {
     "slide_type": "slide"
    }
   },
   "source": [
    "## PROC PRINT  \n",
    "Probably the most frequently used of all the SAS PROC statements!"
   ]
  },
  {
   "cell_type": "code",
   "execution_count": null,
   "metadata": {
    "slideshow": {
     "slide_type": "fragment"
    }
   },
   "outputs": [],
   "source": [
    "/* SAS University Edition comes with some built in Data Sets for use.  \n",
    "   One of them is:  sashelp.baseball  */\n",
    "proc print data=sashelp.baseball;\n",
    "run;"
   ]
  },
  {
   "cell_type": "code",
   "execution_count": null,
   "metadata": {
    "slideshow": {
     "slide_type": "slide"
    }
   },
   "outputs": [],
   "source": [
    "/* Another built-in SAS Data Set is:sashelp.cars */\n",
    "proc print data=sashelp.cars;\n",
    "run;"
   ]
  },
  {
   "cell_type": "markdown",
   "metadata": {
    "slideshow": {
     "slide_type": "slide"
    }
   },
   "source": [
    "### Showing only a certain number of rows/observations using PROC PRINT"
   ]
  },
  {
   "cell_type": "code",
   "execution_count": null,
   "metadata": {
    "slideshow": {
     "slide_type": "fragment"
    }
   },
   "outputs": [],
   "source": [
    "/* Showing only the first 5 observations/rows in a SAS Data Set */\n",
    "proc print data=sashelp.cars (obs=5);\n",
    "run;"
   ]
  },
  {
   "cell_type": "markdown",
   "metadata": {
    "slideshow": {
     "slide_type": "slide"
    }
   },
   "source": [
    "## PROC CONTENTS  \n",
    "Proc Contents is a way to look at the meta-data of a SAS Data Set"
   ]
  },
  {
   "cell_type": "code",
   "execution_count": null,
   "metadata": {
    "slideshow": {
     "slide_type": "fragment"
    }
   },
   "outputs": [],
   "source": [
    "proc contents data=sashelp.cars;\n",
    "run;"
   ]
  },
  {
   "cell_type": "markdown",
   "metadata": {
    "slideshow": {
     "slide_type": "slide"
    }
   },
   "source": [
    "## PROC MEANS"
   ]
  },
  {
   "cell_type": "code",
   "execution_count": null,
   "metadata": {
    "slideshow": {
     "slide_type": "fragment"
    }
   },
   "outputs": [],
   "source": [
    "proc means data=sashelp.cars;\n",
    "run;"
   ]
  },
  {
   "cell_type": "markdown",
   "metadata": {
    "slideshow": {
     "slide_type": "slide"
    }
   },
   "source": [
    "# Task 1  \n",
    "## Explore the SAS *sashelp.shoes* Data Set \n",
    "\n",
    "1. Below, create separate code cells for each of these SAS Proc statements and run them on **sashelp.shoes**:  \n",
    "  1. proc print  \n",
    "  2. proc contents  \n",
    "  3. proc means  \n",
    "2. Go back and add a Markdown cell above each of the code cells explaining the code cell  \n",
    "3. Once this is working -- and if you have time -- use the Markdown resources to improve the styling of your markdown cells by adding:  \n",
    "  1. Headers  \n",
    "  2. Bold  \n",
    "  3. Italics\n"
   ]
  },
  {
   "cell_type": "code",
   "execution_count": null,
   "metadata": {},
   "outputs": [],
   "source": []
  },
  {
   "cell_type": "code",
   "execution_count": null,
   "metadata": {},
   "outputs": [],
   "source": []
  }
 ],
 "metadata": {
  "kernelspec": {
   "display_name": "SAS",
   "language": "sas",
   "name": "sas"
  },
  "language_info": {
   "codemirror_mode": "sas",
   "file_extension": ".sas",
   "mimetype": "text/x-sas",
   "name": "sas"
  }
 },
 "nbformat": 4,
 "nbformat_minor": 2
}
