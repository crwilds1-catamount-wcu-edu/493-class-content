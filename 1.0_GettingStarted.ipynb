{
 "cells": [
  {
   "cell_type": "markdown",
   "metadata": {
    "slideshow": {
     "slide_type": "slide"
    }
   },
   "source": [
    "# 1.0 Getting Started\n",
    "\n",
    "An introduction to creating our working environment and learning the work flow that we will use for the rest of the semester.\n",
    "\n",
    "- [The SAS **PROC PRINT** Statement](#PROC-PRINT)  \n",
    "- [**Markdown** Basics:](#Markdown-Basics) \n",
    "  - [Headers](#Headers)  \n",
    "  - [Emphasis: Bold and Italics](#Emphasis)  \n",
    "  - [Lists](#Lists)\n",
    "  \n",
    "  \n",
    "\n",
    "**Important Notes:**\n",
    "1. The learning curve you will be working on for a week or two will **not** be SAS!  Instead it will be getting familiar with Jupyter Notebooks and GitHub.  \n",
    "2. This is going to be frustrating at times!  I don't know how to avoid that.  But after a couple of weeks you will be very comfortable with them and we will be using exactly the same workflow for the rest of the semester.  \n",
    "3. GitHub and Jupyter Notebooks are worth separate bullets on your Resume!"
   ]
  },
  {
   "cell_type": "markdown",
   "metadata": {
    "slideshow": {
     "slide_type": "slide"
    }
   },
   "source": [
    "## PROC PRINT  \n",
    "Probably the most frequently used of all the SAS PROC statements!"
   ]
  },
  {
   "cell_type": "code",
   "execution_count": null,
   "metadata": {
    "slideshow": {
     "slide_type": "fragment"
    }
   },
   "outputs": [],
   "source": [
    "/* SAS University Edition comes with some built in Data Sets for use.  \n",
    "   One of them is:  sashelp.baseball  */\n",
    "proc print data=sashelp.baseball;\n",
    "run;"
   ]
  },
  {
   "cell_type": "code",
   "execution_count": null,
   "metadata": {
    "slideshow": {
     "slide_type": "slide"
    }
   },
   "outputs": [],
   "source": [
    "/* Another built-in SAS Data Set is:sashelp.cars */\n",
    "proc print data=sashelp.cars;\n",
    "run;"
   ]
  },
  {
   "cell_type": "markdown",
   "metadata": {
    "slideshow": {
     "slide_type": "slide"
    }
   },
   "source": [
    "### Showing only a certain number of rows/observations using PROC PRINT"
   ]
  },
  {
   "cell_type": "code",
   "execution_count": null,
   "metadata": {
    "slideshow": {
     "slide_type": "fragment"
    }
   },
   "outputs": [],
   "source": [
    "/* Showing only the first 5 observations/rows in a SAS Data Set */\n",
    "proc print data=sashelp.cars (obs=5);\n",
    "run;"
   ]
  },
  {
   "cell_type": "markdown",
   "metadata": {
    "slideshow": {
     "slide_type": "slide"
    }
   },
   "source": [
    "# Task 1: Display the SAS *sashelp.shoes* Data Set \n",
    "\n",
    "1. Below, create a new code cell that uses a SAS Proc Print statement to display the contents of the  **sashelp.shoes** SAS Data Set.  \n",
    "2. Add a comment immediately above the code (but still in the code cell) explaining the code.\n"
   ]
  },
  {
   "cell_type": "code",
   "execution_count": null,
   "metadata": {},
   "outputs": [],
   "source": []
  },
  {
   "cell_type": "markdown",
   "metadata": {},
   "source": [
    "# Markdown Basics  \n",
    "Below are are examples of the *Markdown* formatting you will use most frequently\n",
    "\n",
    "Reference: [Markdown Cheatsheet](https://github.com/adam-p/markdown-here/wiki/Markdown-Cheatsheet)"
   ]
  },
  {
   "cell_type": "markdown",
   "metadata": {},
   "source": [
    "# Headers  \n",
    "These are often used as section titles in your Jupyter Notebooks.  \n",
    "\n",
    "# H1\n",
    "## H2\n",
    "### H3\n",
    "#### H4\n",
    "##### H5\n",
    "###### H6"
   ]
  },
  {
   "cell_type": "markdown",
   "metadata": {},
   "source": [
    "# Emphasis  \n",
    "The two main ways to emphasize we will use are Bold and Italics. \n",
    "\n",
    "**This text is Bolded** \n",
    "\n",
    "\n",
    "*This text is italized*"
   ]
  },
  {
   "cell_type": "markdown",
   "metadata": {},
   "source": [
    "# Lists  \n",
    "Unordered and Ordered(Numbered) are the two types of lists we use.  \n",
    "\n",
    "### Unordered List\n",
    "- The first item in an Unordered list  \n",
    "- The second item in an Unordered list  \n",
    "- The third item  \n",
    "- .....\n",
    "\n",
    "### Ordered List\n",
    "1. The first item in an Ordered list  \n",
    "2. The second item in an Ordered list  \n",
    "3. The third item  \n",
    "4. ....."
   ]
  },
  {
   "cell_type": "markdown",
   "metadata": {},
   "source": [
    "# Task 2: Display the SAS *pricedata* Data Set \n",
    "\n",
    "1. Create a new Code Cell and display the first seven records of the  **sashelp.pricedata** SAS Data Set.  \n",
    "2. Add a comment above the code in the code cell explaining what the code does or should do.\n",
    "2. Add a *Markdown* cell above the code cell explaining the code cell  \n",
    "3. Add a new Markdown cell below the code cell and demo the following Markdown:  \n",
    "  1. Headers  \n",
    "  2. Bold  \n",
    "  3. Italics  \n",
    "  4. Unordered List  \n",
    "  5. Ordered List\n"
   ]
  }
 ],
 "metadata": {
  "kernelspec": {
   "display_name": "SAS",
   "language": "sas",
   "name": "sas"
  },
  "language_info": {
   "codemirror_mode": "sas",
   "file_extension": ".sas",
   "mimetype": "text/x-sas",
   "name": "sas"
  }
 },
 "nbformat": 4,
 "nbformat_minor": 2
}
